{
 "cells": [
  {
   "cell_type": "code",
   "execution_count": 1,
   "id": "78698851-ac05-4bd7-b174-904a11e4ea2c",
   "metadata": {},
   "outputs": [
    {
     "name": "stdout",
     "output_type": "stream",
     "text": [
      "JSON files have been created in the 'model_entry_jsons' directory.\n"
     ]
    }
   ],
   "source": [
    "import json\n",
    "import os\n",
    "\n",
    "# Define input and output paths\n",
    "input_file_path = 'labelbox_annotations.ndjson'  # Replace with your file name\n",
    "output_directory = 'model_entry_jsons'  # Directory to save the JSON files\n",
    "\n",
    "# Create the output directory if it doesn't exist\n",
    "os.makedirs(output_directory, exist_ok=True)\n",
    "\n",
    "# Function to transform the polygon points\n",
    "def transform_points(polygon):\n",
    "    return [[point['x'], point['y']] for point in polygon]\n",
    "\n",
    "# Process each line in the NDJSON file\n",
    "with open(input_file_path, 'r') as ndjson_file:\n",
    "    for line in ndjson_file:\n",
    "        data = json.loads(line)  # Parse the NDJSON line\n",
    "        \n",
    "        # Extract relevant data\n",
    "        external_id = data['data_row']['external_id']\n",
    "        image_height = data['media_attributes']['height']\n",
    "        image_width = data['media_attributes']['width']\n",
    "        \n",
    "        # Extract polygon points if available\n",
    "        project_key = next(iter(data['projects']))  # Get the first project key\n",
    "        annotations = data['projects'][project_key]['labels'][0]['annotations']['objects']\n",
    "        \n",
    "        shapes = []\n",
    "        for annotation in annotations:\n",
    "            if 'polygon' in annotation:\n",
    "                shape = {\n",
    "                    \"points\": transform_points(annotation['polygon'])\n",
    "                }\n",
    "                shapes.append(shape)\n",
    "        \n",
    "        # Create the output JSON structure\n",
    "        output_json = {\n",
    "            \"imagePath\": external_id,\n",
    "            \"shapes\": shapes,\n",
    "            \"imageHeight\": image_height,\n",
    "            \"imageWidth\": image_width\n",
    "        }\n",
    "        \n",
    "        # Save each output JSON to a separate file\n",
    "        output_file_path = os.path.join(output_directory, f\"{os.path.splitext(external_id)[0]}.json\")\n",
    "        with open(output_file_path, 'w') as out_file:\n",
    "            json.dump(output_json, out_file, indent=2)\n",
    "\n",
    "print(f\"JSON files have been created in the '{output_directory}' directory.\")\n"
   ]
  },
  {
   "cell_type": "code",
   "execution_count": null,
   "id": "c711d6d2-654c-4a7e-bb53-0035b54c0564",
   "metadata": {},
   "outputs": [],
   "source": []
  }
 ],
 "metadata": {
  "kernelspec": {
   "display_name": "Python 3 (ipykernel)",
   "language": "python",
   "name": "python3"
  },
  "language_info": {
   "codemirror_mode": {
    "name": "ipython",
    "version": 3
   },
   "file_extension": ".py",
   "mimetype": "text/x-python",
   "name": "python",
   "nbconvert_exporter": "python",
   "pygments_lexer": "ipython3",
   "version": "3.9.20"
  }
 },
 "nbformat": 4,
 "nbformat_minor": 5
}
